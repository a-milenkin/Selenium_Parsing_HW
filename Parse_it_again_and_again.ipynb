{
 "cells": [
  {
   "cell_type": "code",
   "execution_count": 8,
   "metadata": {},
   "outputs": [
    {
     "name": "stdout",
     "output_type": "stream",
     "text": [
      "<selenium.webdriver.remote.webelement.WebElement (session=\"20d71d16f8b535a35e29c6aaf862831e\", element=\"13104d8f-43ab-4226-9b0f-30e82f6b9e43\")>\n",
      "Конеч\n"
     ]
    }
   ],
   "source": [
    "from selenium import webdriver\n",
    "import time \n",
    "\n",
    "link = \"http://suninjuly.github.io/simple_form_find_task.html\"\n",
    "\n",
    "try:\n",
    "    browser = webdriver.Chrome()\n",
    "    browser.get(link)\n",
    "\n",
    "    input1 = browser.find_element_by_tag_name('input')\n",
    "    print(input1)\n",
    "    input1.send_keys(\"Ivan\")\n",
    "    input2 = browser.find_element_by_name('last_name')\n",
    "    input2.send_keys(\"Petrov\")\n",
    "    input3 = browser.find_element_by_class_name('form-control.city')\n",
    "    input3.send_keys(\"Smolensk\")\n",
    "    input4 = browser.find_element_by_id('country')\n",
    "    input4.send_keys(\"Russia\")\n",
    "    button = browser.find_element_by_css_selector(\"button.btn\")\n",
    "    button.click()\n",
    "\n",
    "finally:\n",
    "    # успеваем скопировать код за 30 секунд\n",
    "    time.sleep(30)\n",
    "    # закрываем браузер после всех манипуляций\n",
    "    browser.quit()\n",
    "\n",
    "# не забываем оставить пустую строку в конце файла\n",
    "\n",
    "print('Конец')"
   ]
  },
  {
   "cell_type": "code",
   "execution_count": 9,
   "metadata": {},
   "outputs": [
    {
     "data": {
      "text/plain": [
       "'224592'"
      ]
     },
     "execution_count": 9,
     "metadata": {},
     "output_type": "execute_result"
    }
   ],
   "source": [
    "import math\n",
    "\n",
    "str(math.ceil(math.pow(math.pi, math.e)*10000))"
   ]
  },
  {
   "cell_type": "code",
   "execution_count": 12,
   "metadata": {},
   "outputs": [
    {
     "name": "stdout",
     "output_type": "stream",
     "text": [
      "<selenium.webdriver.remote.webelement.WebElement (session=\"1b03e01cafda1d83cd1d2af9fc893dd0\", element=\"c0754e89-a54e-4216-a983-358c521c9574\")>\n",
      "Конеч\n"
     ]
    }
   ],
   "source": [
    "from selenium import webdriver\n",
    "import time \n",
    "\n",
    "link = \"http://suninjuly.github.io/find_link_text\"\n",
    "\n",
    "try:\n",
    "    browser = webdriver.Chrome()\n",
    "    browser.get(link)\n",
    "    \n",
    "    part = str(math.ceil(math.pow(math.pi, math.e)*10000))\n",
    "    link = browser.find_element_by_partial_link_text(part)\n",
    "    link.click()\n",
    "    \n",
    "    \n",
    "    \n",
    "    input1 = browser.find_element_by_tag_name('input')\n",
    "    print(input1)\n",
    "    input1.send_keys(\"Ivan\")\n",
    "    input2 = browser.find_element_by_name('last_name')\n",
    "    input2.send_keys(\"Petrov\")\n",
    "    input3 = browser.find_element_by_class_name('form-control.city')\n",
    "    input3.send_keys(\"Smolensk\")\n",
    "    input4 = browser.find_element_by_id('country')\n",
    "    input4.send_keys(\"Russia\")\n",
    "    button = browser.find_element_by_css_selector(\"button.btn\")\n",
    "    button.click()\n",
    "\n",
    "finally:\n",
    "    # успеваем скопировать код за 30 секунд\n",
    "    time.sleep(30)\n",
    "    # закрываем браузер после всех манипуляций\n",
    "    browser.quit()\n",
    "\n",
    "# не забываем оставить пустую строку в конце файла\n",
    "\n",
    "print('Конец')"
   ]
  },
  {
   "cell_type": "code",
   "execution_count": 14,
   "metadata": {},
   "outputs": [],
   "source": [
    "from selenium import webdriver\n",
    "import time\n",
    "\n",
    "try:\n",
    "    browser = webdriver.Chrome()\n",
    "    browser.get(\"http://suninjuly.github.io/huge_form.html\")\n",
    "    elements = browser.find_elements_by_tag_name('input')\n",
    "    for element in elements: element.send_keys(\"Мой ответ\")\n",
    "\n",
    "    button = browser.find_element_by_css_selector(\"button.btn\")\n",
    "    button.click()\n",
    "\n",
    "finally:\n",
    "    # успеваем скопировать код за 30 секунд\n",
    "    time.sleep(30)\n",
    "    # закрываем браузер после всех манипуляций\n",
    "    browser.quit()\n",
    "\n",
    "# не забываем оставить пустую строку в конце файла\n",
    "\n",
    "#21.2016634008453"
   ]
  },
  {
   "cell_type": "code",
   "execution_count": 20,
   "metadata": {},
   "outputs": [],
   "source": [
    "\n",
    "from selenium import webdriver\n",
    "import time\n",
    "\n",
    "try:\n",
    "    browser = webdriver.Chrome()\n",
    "    browser.get(\"http://suninjuly.github.io/find_xpath_form\")\n",
    "    elements = browser.find_elements_by_tag_name('input')\n",
    "    for element in elements: element.send_keys(\"Мой ответ\")\n",
    "\n",
    "    button = browser.find_element_by_xpath(\"/html/body/div/form/div[6]/button[text()='Submit']\")\n",
    "    button.click()\n",
    "\n",
    "finally:\n",
    "    # успеваем скопировать код за 30 секунд\n",
    "    time.sleep(30)\n",
    "    # закрываем браузер после всех манипуляций\n",
    "    browser.quit()\n",
    "\n",
    "# не забываем оставить пустую строку в конце файла\n",
    "\n",
    " \n",
    " "
   ]
  },
  {
   "cell_type": "markdown",
   "metadata": {},
   "source": [
    "# For per review"
   ]
  },
  {
   "cell_type": "code",
   "execution_count": 23,
   "metadata": {},
   "outputs": [
    {
     "ename": "NoSuchElementException",
     "evalue": "Message: no such element: Unable to locate element: {\"method\":\"xpath\",\"selector\":\"/html/body/div/form/div[6]/button[text()='Submit']\"}\n  (Session info: chrome=88.0.4324.150)\n",
     "output_type": "error",
     "traceback": [
      "\u001b[1;31m---------------------------------------------------------------------------\u001b[0m",
      "\u001b[1;31mNoSuchElementException\u001b[0m                    Traceback (most recent call last)",
      "\u001b[1;32m<ipython-input-23-6f04f8c3c1ca>\u001b[0m in \u001b[0;36m<module>\u001b[1;34m\u001b[0m\n\u001b[0;32m      8\u001b[0m     \u001b[1;32mfor\u001b[0m \u001b[0melement\u001b[0m \u001b[1;32min\u001b[0m \u001b[0melements\u001b[0m\u001b[1;33m:\u001b[0m \u001b[0melement\u001b[0m\u001b[1;33m.\u001b[0m\u001b[0msend_keys\u001b[0m\u001b[1;33m(\u001b[0m\u001b[1;34m\"Мой ответ\"\u001b[0m\u001b[1;33m)\u001b[0m\u001b[1;33m\u001b[0m\u001b[1;33m\u001b[0m\u001b[0m\n\u001b[0;32m      9\u001b[0m \u001b[1;33m\u001b[0m\u001b[0m\n\u001b[1;32m---> 10\u001b[1;33m     \u001b[0mbutton\u001b[0m \u001b[1;33m=\u001b[0m \u001b[0mbrowser\u001b[0m\u001b[1;33m.\u001b[0m\u001b[0mfind_element_by_xpath\u001b[0m\u001b[1;33m(\u001b[0m\u001b[1;34m\"/html/body/div/form/div[6]/button[text()='Submit']\"\u001b[0m\u001b[1;33m)\u001b[0m\u001b[1;33m\u001b[0m\u001b[1;33m\u001b[0m\u001b[0m\n\u001b[0m\u001b[0;32m     11\u001b[0m     \u001b[0mbutton\u001b[0m\u001b[1;33m.\u001b[0m\u001b[0mclick\u001b[0m\u001b[1;33m(\u001b[0m\u001b[1;33m)\u001b[0m\u001b[1;33m\u001b[0m\u001b[1;33m\u001b[0m\u001b[0m\n\u001b[0;32m     12\u001b[0m \u001b[1;33m\u001b[0m\u001b[0m\n",
      "\u001b[1;32m~\\anaconda3\\lib\\site-packages\\selenium\\webdriver\\remote\\webdriver.py\u001b[0m in \u001b[0;36mfind_element_by_xpath\u001b[1;34m(self, xpath)\u001b[0m\n\u001b[0;32m    392\u001b[0m             \u001b[0melement\u001b[0m \u001b[1;33m=\u001b[0m \u001b[0mdriver\u001b[0m\u001b[1;33m.\u001b[0m\u001b[0mfind_element_by_xpath\u001b[0m\u001b[1;33m(\u001b[0m\u001b[1;34m'//div/td[1]'\u001b[0m\u001b[1;33m)\u001b[0m\u001b[1;33m\u001b[0m\u001b[1;33m\u001b[0m\u001b[0m\n\u001b[0;32m    393\u001b[0m         \"\"\"\n\u001b[1;32m--> 394\u001b[1;33m         \u001b[1;32mreturn\u001b[0m \u001b[0mself\u001b[0m\u001b[1;33m.\u001b[0m\u001b[0mfind_element\u001b[0m\u001b[1;33m(\u001b[0m\u001b[0mby\u001b[0m\u001b[1;33m=\u001b[0m\u001b[0mBy\u001b[0m\u001b[1;33m.\u001b[0m\u001b[0mXPATH\u001b[0m\u001b[1;33m,\u001b[0m \u001b[0mvalue\u001b[0m\u001b[1;33m=\u001b[0m\u001b[0mxpath\u001b[0m\u001b[1;33m)\u001b[0m\u001b[1;33m\u001b[0m\u001b[1;33m\u001b[0m\u001b[0m\n\u001b[0m\u001b[0;32m    395\u001b[0m \u001b[1;33m\u001b[0m\u001b[0m\n\u001b[0;32m    396\u001b[0m     \u001b[1;32mdef\u001b[0m \u001b[0mfind_elements_by_xpath\u001b[0m\u001b[1;33m(\u001b[0m\u001b[0mself\u001b[0m\u001b[1;33m,\u001b[0m \u001b[0mxpath\u001b[0m\u001b[1;33m)\u001b[0m\u001b[1;33m:\u001b[0m\u001b[1;33m\u001b[0m\u001b[1;33m\u001b[0m\u001b[0m\n",
      "\u001b[1;32m~\\anaconda3\\lib\\site-packages\\selenium\\webdriver\\remote\\webdriver.py\u001b[0m in \u001b[0;36mfind_element\u001b[1;34m(self, by, value)\u001b[0m\n\u001b[0;32m    974\u001b[0m                 \u001b[0mby\u001b[0m \u001b[1;33m=\u001b[0m \u001b[0mBy\u001b[0m\u001b[1;33m.\u001b[0m\u001b[0mCSS_SELECTOR\u001b[0m\u001b[1;33m\u001b[0m\u001b[1;33m\u001b[0m\u001b[0m\n\u001b[0;32m    975\u001b[0m                 \u001b[0mvalue\u001b[0m \u001b[1;33m=\u001b[0m \u001b[1;34m'[name=\"%s\"]'\u001b[0m \u001b[1;33m%\u001b[0m \u001b[0mvalue\u001b[0m\u001b[1;33m\u001b[0m\u001b[1;33m\u001b[0m\u001b[0m\n\u001b[1;32m--> 976\u001b[1;33m         return self.execute(Command.FIND_ELEMENT, {\n\u001b[0m\u001b[0;32m    977\u001b[0m             \u001b[1;34m'using'\u001b[0m\u001b[1;33m:\u001b[0m \u001b[0mby\u001b[0m\u001b[1;33m,\u001b[0m\u001b[1;33m\u001b[0m\u001b[1;33m\u001b[0m\u001b[0m\n\u001b[0;32m    978\u001b[0m             'value': value})['value']\n",
      "\u001b[1;32m~\\anaconda3\\lib\\site-packages\\selenium\\webdriver\\remote\\webdriver.py\u001b[0m in \u001b[0;36mexecute\u001b[1;34m(self, driver_command, params)\u001b[0m\n\u001b[0;32m    319\u001b[0m         \u001b[0mresponse\u001b[0m \u001b[1;33m=\u001b[0m \u001b[0mself\u001b[0m\u001b[1;33m.\u001b[0m\u001b[0mcommand_executor\u001b[0m\u001b[1;33m.\u001b[0m\u001b[0mexecute\u001b[0m\u001b[1;33m(\u001b[0m\u001b[0mdriver_command\u001b[0m\u001b[1;33m,\u001b[0m \u001b[0mparams\u001b[0m\u001b[1;33m)\u001b[0m\u001b[1;33m\u001b[0m\u001b[1;33m\u001b[0m\u001b[0m\n\u001b[0;32m    320\u001b[0m         \u001b[1;32mif\u001b[0m \u001b[0mresponse\u001b[0m\u001b[1;33m:\u001b[0m\u001b[1;33m\u001b[0m\u001b[1;33m\u001b[0m\u001b[0m\n\u001b[1;32m--> 321\u001b[1;33m             \u001b[0mself\u001b[0m\u001b[1;33m.\u001b[0m\u001b[0merror_handler\u001b[0m\u001b[1;33m.\u001b[0m\u001b[0mcheck_response\u001b[0m\u001b[1;33m(\u001b[0m\u001b[0mresponse\u001b[0m\u001b[1;33m)\u001b[0m\u001b[1;33m\u001b[0m\u001b[1;33m\u001b[0m\u001b[0m\n\u001b[0m\u001b[0;32m    322\u001b[0m             response['value'] = self._unwrap_value(\n\u001b[0;32m    323\u001b[0m                 response.get('value', None))\n",
      "\u001b[1;32m~\\anaconda3\\lib\\site-packages\\selenium\\webdriver\\remote\\errorhandler.py\u001b[0m in \u001b[0;36mcheck_response\u001b[1;34m(self, response)\u001b[0m\n\u001b[0;32m    240\u001b[0m                 \u001b[0malert_text\u001b[0m \u001b[1;33m=\u001b[0m \u001b[0mvalue\u001b[0m\u001b[1;33m[\u001b[0m\u001b[1;34m'alert'\u001b[0m\u001b[1;33m]\u001b[0m\u001b[1;33m.\u001b[0m\u001b[0mget\u001b[0m\u001b[1;33m(\u001b[0m\u001b[1;34m'text'\u001b[0m\u001b[1;33m)\u001b[0m\u001b[1;33m\u001b[0m\u001b[1;33m\u001b[0m\u001b[0m\n\u001b[0;32m    241\u001b[0m             \u001b[1;32mraise\u001b[0m \u001b[0mexception_class\u001b[0m\u001b[1;33m(\u001b[0m\u001b[0mmessage\u001b[0m\u001b[1;33m,\u001b[0m \u001b[0mscreen\u001b[0m\u001b[1;33m,\u001b[0m \u001b[0mstacktrace\u001b[0m\u001b[1;33m,\u001b[0m \u001b[0malert_text\u001b[0m\u001b[1;33m)\u001b[0m\u001b[1;33m\u001b[0m\u001b[1;33m\u001b[0m\u001b[0m\n\u001b[1;32m--> 242\u001b[1;33m         \u001b[1;32mraise\u001b[0m \u001b[0mexception_class\u001b[0m\u001b[1;33m(\u001b[0m\u001b[0mmessage\u001b[0m\u001b[1;33m,\u001b[0m \u001b[0mscreen\u001b[0m\u001b[1;33m,\u001b[0m \u001b[0mstacktrace\u001b[0m\u001b[1;33m)\u001b[0m\u001b[1;33m\u001b[0m\u001b[1;33m\u001b[0m\u001b[0m\n\u001b[0m\u001b[0;32m    243\u001b[0m \u001b[1;33m\u001b[0m\u001b[0m\n\u001b[0;32m    244\u001b[0m     \u001b[1;32mdef\u001b[0m \u001b[0m_value_or_default\u001b[0m\u001b[1;33m(\u001b[0m\u001b[0mself\u001b[0m\u001b[1;33m,\u001b[0m \u001b[0mobj\u001b[0m\u001b[1;33m,\u001b[0m \u001b[0mkey\u001b[0m\u001b[1;33m,\u001b[0m \u001b[0mdefault\u001b[0m\u001b[1;33m)\u001b[0m\u001b[1;33m:\u001b[0m\u001b[1;33m\u001b[0m\u001b[1;33m\u001b[0m\u001b[0m\n",
      "\u001b[1;31mNoSuchElementException\u001b[0m: Message: no such element: Unable to locate element: {\"method\":\"xpath\",\"selector\":\"/html/body/div/form/div[6]/button[text()='Submit']\"}\n  (Session info: chrome=88.0.4324.150)\n"
     ]
    }
   ],
   "source": [
    " \n",
    "    \n",
    "    \n",
    "from selenium import webdriver\n",
    "import time\n",
    "\n",
    "try:\n",
    "    browser = webdriver.Chrome()\n",
    "    browser.get(\"http://suninjuly.github.io/registration2.html\")\n",
    "    elements = browser.find_elements_by_tag_name('input')\n",
    "    for element in elements: element.send_keys(\"Мой ответ\")\n",
    "\n",
    "    button = browser.find_element_by_xpath(\"/html/body/div/form/div[6]/button[text()='Submit']\")\n",
    "    button.click()\n",
    "\n",
    "finally:\n",
    "    # успеваем скопировать код за 30 секунд\n",
    "    time.sleep(10)\n",
    "    # закрываем браузер после всех манипуляций\n",
    "    browser.quit()\n",
    "\n",
    "# не забываем оставить пустую строку в конце файла\n",
    "\n",
    " \n",
    " "
   ]
  },
  {
   "cell_type": "code",
   "execution_count": 18,
   "metadata": {},
   "outputs": [
    {
     "name": "stdout",
     "output_type": "stream",
     "text": [
      "841\n"
     ]
    }
   ],
   "source": [
    "from selenium import webdriver\n",
    "import time\n",
    "\n",
    "import math\n",
    "\n",
    "def calc(x):\n",
    "    return str(math.log(abs(12*math.sin(int(x)))))\n",
    "\n",
    "\n",
    "try:\n",
    "    browser = webdriver.Chrome()\n",
    "    browser.get(' http://suninjuly.github.io/math.html')\n",
    "    x_element = browser.find_element_by_id('input_value')\n",
    "    \n",
    "    #print(x_element)\n",
    "    x = x_element.text\n",
    "    print(x)\n",
    "    y = calc(x)\n",
    "    \n",
    "    form = browser.find_element_by_tag_name('input')\n",
    "    form.send_keys(y)\n",
    "    \n",
    "    \n",
    "    \n",
    "    c1 = browser.find_element_by_tag_name('[for=\"robotCheckbox\"]')\n",
    "    c1.click()\n",
    "    \n",
    "    c2 = browser.find_element_by_tag_name(\"[for='robotsRule']\")\n",
    "    c2.click()\n",
    "    \n",
    "    \n",
    "    sb = browser.find_element_by_tag_name(\"button[type='submit']\")\n",
    "    sb.click()\n",
    "    \n",
    "# except e as E:\n",
    "#     print(E)\n",
    "    \n",
    "finally:\n",
    "    # успеваем скопировать код за 30 секунд\n",
    "    time.sleep(30)\n",
    "    # закрываем браузер после всех манипуляций\n",
    "    browser.quit()"
   ]
  },
  {
   "cell_type": "code",
   "execution_count": 21,
   "metadata": {},
   "outputs": [
    {
     "name": "stdout",
     "output_type": "stream",
     "text": [
      "122\n"
     ]
    }
   ],
   "source": [
    "  \n",
    "\n",
    "\n",
    "from selenium import webdriver\n",
    "import time\n",
    "\n",
    "import math\n",
    "\n",
    "def calc(x):\n",
    "    return str(math.log(abs(12*math.sin(int(x)))))\n",
    "\n",
    "\n",
    "try:\n",
    "    browser = webdriver.Chrome()\n",
    "    browser.get('http://suninjuly.github.io/get_attribute.html')\n",
    "     \n",
    "\n",
    "    for_x = browser.find_element_by_id(\"treasure\")\n",
    "    x = for_x.get_attribute(\"valuex\")\n",
    " \n",
    "    print(x)\n",
    "    y = calc(x)\n",
    "    \n",
    "    form = browser.find_element_by_tag_name('input')\n",
    "    form.send_keys(y)\n",
    "    \n",
    "    \n",
    "    \n",
    "    c1 = browser.find_element_by_id('robotCheckbox')\n",
    "    c1.click()\n",
    "    \n",
    "    c2 = browser.find_element_by_id('robotsRule')\n",
    "    c2.click()\n",
    "    \n",
    "    \n",
    "    sb = browser.find_element_by_tag_name(\"button[type='submit']\")\n",
    "    sb.click()\n",
    "    \n",
    "# except e as E:\n",
    "#     print(E)\n",
    "    \n",
    "finally:\n",
    "    # успеваем скопировать код за 30 секунд\n",
    "    time.sleep(30)\n",
    "    # закрываем браузер после всех манипуляций\n",
    "    browser.quit()"
   ]
  },
  {
   "cell_type": "markdown",
   "metadata": {},
   "source": [
    "# Задание: работа с выпадающим списком"
   ]
  },
  {
   "cell_type": "code",
   "execution_count": 27,
   "metadata": {},
   "outputs": [
    {
     "name": "stdout",
     "output_type": "stream",
     "text": [
      "30\n",
      "[value='30']\n"
     ]
    }
   ],
   "source": [
    "from selenium import webdriver\n",
    "import time\n",
    "import math\n",
    "\n",
    "\n",
    "try:\n",
    "    browser = webdriver.Chrome()\n",
    "    browser.get('http://suninjuly.github.io/selects1.html')\n",
    "     \n",
    "\n",
    "    x_1 = browser.find_element_by_id(\"num1\").text\n",
    "    x_2 = browser.find_element_by_id(\"num2\").text\n",
    "    y = int(x_1) + int(x_2)\n",
    "    print(y)\n",
    "    \n",
    "    browser.find_element_by_id(\"dropdown\").click()\n",
    "    \n",
    "    selector = \"[value='{}']\".format(y)\n",
    "    print(selector)\n",
    "    browser.find_element_by_css_selector(selector).click()\n",
    "    \n",
    "    \n",
    "    sb = browser.find_element_by_tag_name(\"button[type='submit']\")\n",
    "    sb.click()\n",
    "    \n",
    "# except e as E:\n",
    "#     print(E)\n",
    "    \n",
    "finally:\n",
    "    # успеваем скопировать код за 30 секунд\n",
    "    time.sleep(5)\n",
    "    # закрываем браузер после всех манипуляций\n",
    "    browser.quit()"
   ]
  },
  {
   "cell_type": "code",
   "execution_count": 29,
   "metadata": {},
   "outputs": [],
   "source": [
    " "
   ]
  },
  {
   "cell_type": "markdown",
   "metadata": {},
   "source": [
    "# execute_script"
   ]
  },
  {
   "cell_type": "code",
   "execution_count": 3,
   "metadata": {},
   "outputs": [
    {
     "name": "stdout",
     "output_type": "stream",
     "text": [
      "1.4943667018288946\n"
     ]
    }
   ],
   "source": [
    "from selenium import webdriver\n",
    "import time\n",
    "import math\n",
    "\n",
    "def calc(x):\n",
    "    return str(math.log(abs(12*math.sin(int(x)))))\n",
    "\n",
    "try:\n",
    "    browser = webdriver.Chrome()\n",
    "    browser.get('http://suninjuly.github.io/execute_script.html')\n",
    "     \n",
    "    x = browser.find_element_by_id(\"input_value\").text\n",
    "    y = calc(x)\n",
    "    print(y)\n",
    "    \n",
    "    #browser.find_element_by_id(\"dropdown\").click()\n",
    "    #1selector = \"[value='{}']\".format(y)\n",
    "    #print(selector)\n",
    "    #browser.find_element_by_css_selector(selector).click()\n",
    "    form = browser.find_element_by_tag_name('input')\n",
    "    form.send_keys(y)\n",
    "    \n",
    "    \n",
    "    c1 = browser.find_element_by_id('robotCheckbox')\n",
    "    browser.execute_script(\"return arguments[0].scrollIntoView(true);\", c1)\n",
    "    c1.click()\n",
    "    \n",
    "    c2 = browser.find_element_by_id('robotsRule')\n",
    "    browser.execute_script(\"return arguments[0].scrollIntoView(true);\", c2)\n",
    "    c2.click()\n",
    "    \n",
    "    button = browser.find_element_by_tag_name(\"button[type='submit']\")\n",
    "    browser.execute_script(\"return arguments[0].scrollIntoView(true);\", button)\n",
    "    button.click()\n",
    "    \n",
    "# except e as E:\n",
    "#     print(E)\n",
    "    \n",
    "finally:\n",
    "    # успеваем скопировать код за 30 секунд\n",
    "    time.sleep(5)\n",
    "    # закрываем браузер после всех манипуляций\n",
    "    browser.quit()"
   ]
  },
  {
   "cell_type": "markdown",
   "metadata": {},
   "source": [
    "# send file in form authomatically"
   ]
  },
  {
   "cell_type": "code",
   "execution_count": 21,
   "metadata": {},
   "outputs": [
    {
     "name": "stdout",
     "output_type": "stream",
     "text": [
      "C:\\Users\\sasha\\Documents\\Stepik\\Selenium_course\n",
      "C:\\Users\\sasha\\Documents\\Stepik\\Selenium_course\\file.txt\n"
     ]
    }
   ],
   "source": [
    "import os \n",
    "\n",
    "current_dir = os.path.abspath(os.path.dirname('Parse_it_again_and_again'))    # получаем путь к директории текущего исполняемого файла \n",
    "print(current_dir)\n",
    "file_path = os.path.join(current_dir, 'file.txt')           # добавляем к этому пути имя файла \n",
    "print(file_path)\n",
    "\n",
    "from selenium import webdriver\n",
    "import time\n",
    "import math\n",
    "\n",
    "def calc(x):\n",
    "    return str(math.log(abs(12*math.sin(int(x)))))\n",
    "\n",
    "try:\n",
    "    browser = webdriver.Chrome()\n",
    "    browser.get('http://suninjuly.github.io/file_input.html')\n",
    "     \n",
    "    f1 = browser.find_element_by_name(\"firstname\")\n",
    "    f1.send_keys('Aleks')\n",
    "    \n",
    "    f2 = browser.find_element_by_name(\"lastname\")\n",
    "    f2.send_keys('Mil')\n",
    "    \n",
    "    f3 = browser.find_element_by_name(\"email\")\n",
    "    f3.send_keys('ml@ok.ru')\n",
    "     \n",
    "    form = browser.find_element_by_id('file')\n",
    "    form.send_keys(file_path)\n",
    "    \n",
    "    button = browser.find_element_by_tag_name(\"button[type='submit']\")\n",
    "    button.click()\n",
    "    \n",
    "\n",
    "    \n",
    "# except e as E:\n",
    "#     print(E)\n",
    "    \n",
    "finally:\n",
    "    # успеваем скопировать код за 30 секунд\n",
    "    time.sleep(5)\n",
    "    # закрываем браузер после всех манипуляций\n",
    "    browser.quit()"
   ]
  },
  {
   "cell_type": "code",
   "execution_count": 20,
   "metadata": {},
   "outputs": [
    {
     "data": {
      "text/plain": [
       "'C:\\\\Users\\\\sasha\\\\Documents\\\\Stepik\\\\Selenium_course'"
      ]
     },
     "execution_count": 20,
     "metadata": {},
     "output_type": "execute_result"
    }
   ],
   "source": [
    " "
   ]
  },
  {
   "cell_type": "code",
   "execution_count": null,
   "metadata": {},
   "outputs": [],
   "source": []
  }
 ],
 "metadata": {
  "kernelspec": {
   "display_name": "Python 3",
   "language": "python",
   "name": "python3"
  },
  "language_info": {
   "codemirror_mode": {
    "name": "ipython",
    "version": 3
   },
   "file_extension": ".py",
   "mimetype": "text/x-python",
   "name": "python",
   "nbconvert_exporter": "python",
   "pygments_lexer": "ipython3",
   "version": "3.8.5"
  },
  "toc": {
   "base_numbering": 1,
   "nav_menu": {},
   "number_sections": true,
   "sideBar": true,
   "skip_h1_title": false,
   "title_cell": "Table of Contents",
   "title_sidebar": "Contents",
   "toc_cell": false,
   "toc_position": {},
   "toc_section_display": true,
   "toc_window_display": false
  }
 },
 "nbformat": 4,
 "nbformat_minor": 4
}
